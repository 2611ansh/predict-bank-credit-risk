{
 "cells": [
  {
   "cell_type": "code",
   "execution_count": 6,
   "metadata": {},
   "outputs": [],
   "source": [
    "import pandas as pd\n",
    "data = pd.read_csv('/workspaces/predict-bank-credit-risk/dataset/SouthGermanCredit.asc', sep=' ')"
   ]
  },
  {
   "cell_type": "code",
   "execution_count": 7,
   "metadata": {},
   "outputs": [],
   "source": [
    "# scaling the dataset\n",
    "\n",
    "from sklearn.preprocessing import StandardScaler\n",
    "\n",
    "def scale_dataset(data, columns_to_scale):\n",
    "    \"\"\"\n",
    "    Scale specified numerical columns in the dataset using StandardScaler.\n",
    "\n",
    "    Parameters:\n",
    "    - data: DataFrame, the input dataset\n",
    "    - columns_to_scale: list, names of numerical columns to be scaled\n",
    "\n",
    "    Returns:\n",
    "    - DataFrame, the scaled dataset\n",
    "    \"\"\"\n",
    "    scaler = StandardScaler()\n",
    "    scaled_data = data.copy()\n",
    "\n",
    "    # Apply StandardScaler to specified columns\n",
    "    scaled_data[columns_to_scale] = scaler.fit_transform(data[columns_to_scale])\n",
    "\n",
    "    return scaled_data\n",
    "\n",
    "# Assuming 'df' is your DataFrame and 'columns_to_scale' is a list of numerical column names\n",
    "# Replace these with your actual variable names\n",
    "df_scaled = scale_dataset(data, columns_to_scale=['laufzeit', 'hoehe', 'beszeit', 'rate', 'wohnzeit', 'alter', 'pers'])"
   ]
  },
  {
   "cell_type": "code",
   "execution_count": 8,
   "metadata": {},
   "outputs": [],
   "source": [
    "# separating the target variable\n",
    "X = df_scaled.drop('kredit', axis=1)\n",
    "y = df_scaled['kredit']"
   ]
  },
  {
   "cell_type": "code",
   "execution_count": 12,
   "metadata": {},
   "outputs": [],
   "source": [
    "# function to balance the dataset\n",
    "from imblearn.over_sampling import SMOTE\n",
    "def balance_dataset(X, y):\n",
    "    \"\"\"\n",
    "    Balance the dataset using SMOTE.\n",
    "\n",
    "    Parameters:\n",
    "    - X: DataFrame, the input dataset\n",
    "    - y: Series, the target variable\n",
    "\n",
    "    Returns:\n",
    "    - DataFrame, the balanced dataset\n",
    "    - Series, the balanced target variable\n",
    "    \"\"\"\n",
    "    smote = SMOTE(random_state=0)\n",
    "    X_balanced, y_balanced = smote.fit_resample(X, y)\n",
    "\n",
    "    return X_balanced, y_balanced\n",
    "\n",
    "# balancing the dataset\n",
    "X_balanced, y_balanced = balance_dataset(X, y)"
   ]
  },
  {
   "cell_type": "code",
   "execution_count": 13,
   "metadata": {},
   "outputs": [],
   "source": [
    "# split the dataset into train and test sets\n",
    "from sklearn.model_selection import train_test_split\n",
    "X_train, X_test, y_train, y_test = train_test_split(X_balanced, y_balanced, test_size=0.2, random_state=0)"
   ]
  },
  {
   "cell_type": "code",
   "execution_count": 17,
   "metadata": {},
   "outputs": [],
   "source": [
    "# function to train the model\n",
    "\n",
    "# imporing various classification model\n",
    "from sklearn.linear_model import LogisticRegression\n",
    "from sklearn.tree import DecisionTreeClassifier\n",
    "from sklearn.ensemble import RandomForestClassifier\n",
    "from sklearn.svm import SVC\n",
    "\n",
    "# importing various evaluation metrics\n",
    "from sklearn.metrics import accuracy_score, precision_score, recall_score, f1_score, roc_auc_score, confusion_matrix\n",
    "\n",
    "# initializing the models\n",
    "log_reg = LogisticRegression()\n",
    "dec_tree = DecisionTreeClassifier()\n",
    "rand_forest = RandomForestClassifier()\n",
    "svm = SVC()\n",
    "\n",
    "# function to train the model, predict on test set and evaluate the model\n",
    "def train_model(model, X_train, y_train, X_test, y_test):\n",
    "    \"\"\"\n",
    "    Train the specified model, predict on test set and evaluate the model.\n",
    "\n",
    "    Parameters:\n",
    "    - model: the model to be trained\n",
    "    - X_train: DataFrame, the training set\n",
    "    - y_train: Series, the training target variable\n",
    "    - X_test: DataFrame, the test set\n",
    "    - y_test: Series, the test target variable\n",
    "\n",
    "    Returns:\n",
    "    - DataFrame, the balanced dataset\n",
    "    - Series, the balanced target variable\n",
    "    \"\"\"\n",
    "    # Train the model\n",
    "    model.fit(X_train, y_train)\n",
    "\n",
    "    # Predict on test set\n",
    "    y_pred = model.predict(X_test)\n",
    "\n",
    "    # Evaluate the model\n",
    "    print('Accuracy: {:.2f}'.format(accuracy_score(y_test, y_pred)))\n",
    "    print('Precision: {:.2f}'.format(precision_score(y_test, y_pred)))\n",
    "    print('Recall: {:.2f}'.format(recall_score(y_test, y_pred)))\n",
    "    print('F1: {:.2f}'.format(f1_score(y_test, y_pred)))\n",
    "    print('AUC: {:.2f}'.format(roc_auc_score(y_test, y_pred)))\n",
    "    print('Confusion Matrix:\\n', confusion_matrix(y_test, y_pred))\n"
   ]
  },
  {
   "cell_type": "code",
   "execution_count": 19,
   "metadata": {},
   "outputs": [
    {
     "name": "stdout",
     "output_type": "stream",
     "text": [
      "\n",
      " LogisticRegression\n",
      "Accuracy: 0.73\n",
      "Precision: 0.74\n",
      "Recall: 0.70\n",
      "F1: 0.72\n",
      "AUC: 0.73\n",
      "Confusion Matrix:\n",
      " [[110  34]\n",
      " [ 41  95]]\n",
      "\n",
      " DecisionTreeClassifier\n",
      "Accuracy: 0.75\n",
      "Precision: 0.74\n",
      "Recall: 0.74\n",
      "F1: 0.74\n",
      "AUC: 0.75\n",
      "Confusion Matrix:\n",
      " [[109  35]\n",
      " [ 36 100]]\n",
      "\n",
      " RandomForestClassifier\n",
      "Accuracy: 0.82\n",
      "Precision: 0.82\n",
      "Recall: 0.81\n",
      "F1: 0.81\n",
      "AUC: 0.82\n",
      "Confusion Matrix:\n",
      " [[120  24]\n",
      " [ 26 110]]\n",
      "\n",
      " SVC\n",
      "Accuracy: 0.77\n",
      "Precision: 0.78\n",
      "Recall: 0.74\n",
      "F1: 0.76\n",
      "AUC: 0.77\n",
      "Confusion Matrix:\n",
      " [[115  29]\n",
      " [ 35 101]]\n"
     ]
    }
   ],
   "source": [
    "# using for loop to train and evaluate the model\n",
    "for model in [log_reg, dec_tree, rand_forest, svm]:\n",
    "    print('\\n', type(model).__name__)\n",
    "    train_model(model, X_train, y_train, X_test, y_test)"
   ]
  },
  {
   "cell_type": "code",
   "execution_count": 20,
   "metadata": {},
   "outputs": [],
   "source": [
    "# hyperparameter tuning random forest classifier using GridSearchCV\n",
    "from sklearn.model_selection import GridSearchCV\n",
    "def tune_model(model, X_train, y_train):\n",
    "    \"\"\"\n",
    "    Tune the specified model using GridSearchCV.\n",
    "\n",
    "    Parameters:\n",
    "    - model: the model to be tuned\n",
    "    - X_train: DataFrame, the training set\n",
    "    - y_train: Series, the training target variable\n",
    "\n",
    "    Returns:\n",
    "    - GridSearchCV, the tuned model\n",
    "    \"\"\"\n",
    "    # Define hyperparameter grid\n",
    "    param_grid = {'n_estimators': [100, 200, 300, 400, 500],\n",
    "                  'max_depth': [1, 3, 5, 7, 9],\n",
    "                  'min_samples_leaf': [1, 2, 3, 4, 5]}\n",
    "\n",
    "    # Define grid search\n",
    "    grid_search = GridSearchCV(model, param_grid, cv=5, scoring='roc_auc', verbose=1, n_jobs=-1)\n",
    "\n",
    "    # Train grid search\n",
    "    grid_search.fit(X_train, y_train)\n",
    "\n",
    "    return grid_search"
   ]
  },
  {
   "cell_type": "code",
   "execution_count": 21,
   "metadata": {},
   "outputs": [
    {
     "name": "stdout",
     "output_type": "stream",
     "text": [
      "Fitting 5 folds for each of 125 candidates, totalling 625 fits\n"
     ]
    }
   ],
   "source": [
    "# tuning the random forest classifier\n",
    "rand_forest_tuned = tune_model(rand_forest, X_train, y_train)"
   ]
  },
  {
   "cell_type": "code",
   "execution_count": 22,
   "metadata": {},
   "outputs": [
    {
     "name": "stdout",
     "output_type": "stream",
     "text": [
      "{'max_depth': 9, 'min_samples_leaf': 1, 'n_estimators': 500}\n"
     ]
    }
   ],
   "source": [
    "# printing the best parameters\n",
    "print(rand_forest_tuned.best_params_)"
   ]
  },
  {
   "cell_type": "code",
   "execution_count": 23,
   "metadata": {},
   "outputs": [
    {
     "data": {
      "text/html": [
       "<style>#sk-container-id-1 {color: black;}#sk-container-id-1 pre{padding: 0;}#sk-container-id-1 div.sk-toggleable {background-color: white;}#sk-container-id-1 label.sk-toggleable__label {cursor: pointer;display: block;width: 100%;margin-bottom: 0;padding: 0.3em;box-sizing: border-box;text-align: center;}#sk-container-id-1 label.sk-toggleable__label-arrow:before {content: \"▸\";float: left;margin-right: 0.25em;color: #696969;}#sk-container-id-1 label.sk-toggleable__label-arrow:hover:before {color: black;}#sk-container-id-1 div.sk-estimator:hover label.sk-toggleable__label-arrow:before {color: black;}#sk-container-id-1 div.sk-toggleable__content {max-height: 0;max-width: 0;overflow: hidden;text-align: left;background-color: #f0f8ff;}#sk-container-id-1 div.sk-toggleable__content pre {margin: 0.2em;color: black;border-radius: 0.25em;background-color: #f0f8ff;}#sk-container-id-1 input.sk-toggleable__control:checked~div.sk-toggleable__content {max-height: 200px;max-width: 100%;overflow: auto;}#sk-container-id-1 input.sk-toggleable__control:checked~label.sk-toggleable__label-arrow:before {content: \"▾\";}#sk-container-id-1 div.sk-estimator input.sk-toggleable__control:checked~label.sk-toggleable__label {background-color: #d4ebff;}#sk-container-id-1 div.sk-label input.sk-toggleable__control:checked~label.sk-toggleable__label {background-color: #d4ebff;}#sk-container-id-1 input.sk-hidden--visually {border: 0;clip: rect(1px 1px 1px 1px);clip: rect(1px, 1px, 1px, 1px);height: 1px;margin: -1px;overflow: hidden;padding: 0;position: absolute;width: 1px;}#sk-container-id-1 div.sk-estimator {font-family: monospace;background-color: #f0f8ff;border: 1px dotted black;border-radius: 0.25em;box-sizing: border-box;margin-bottom: 0.5em;}#sk-container-id-1 div.sk-estimator:hover {background-color: #d4ebff;}#sk-container-id-1 div.sk-parallel-item::after {content: \"\";width: 100%;border-bottom: 1px solid gray;flex-grow: 1;}#sk-container-id-1 div.sk-label:hover label.sk-toggleable__label {background-color: #d4ebff;}#sk-container-id-1 div.sk-serial::before {content: \"\";position: absolute;border-left: 1px solid gray;box-sizing: border-box;top: 0;bottom: 0;left: 50%;z-index: 0;}#sk-container-id-1 div.sk-serial {display: flex;flex-direction: column;align-items: center;background-color: white;padding-right: 0.2em;padding-left: 0.2em;position: relative;}#sk-container-id-1 div.sk-item {position: relative;z-index: 1;}#sk-container-id-1 div.sk-parallel {display: flex;align-items: stretch;justify-content: center;background-color: white;position: relative;}#sk-container-id-1 div.sk-item::before, #sk-container-id-1 div.sk-parallel-item::before {content: \"\";position: absolute;border-left: 1px solid gray;box-sizing: border-box;top: 0;bottom: 0;left: 50%;z-index: -1;}#sk-container-id-1 div.sk-parallel-item {display: flex;flex-direction: column;z-index: 1;position: relative;background-color: white;}#sk-container-id-1 div.sk-parallel-item:first-child::after {align-self: flex-end;width: 50%;}#sk-container-id-1 div.sk-parallel-item:last-child::after {align-self: flex-start;width: 50%;}#sk-container-id-1 div.sk-parallel-item:only-child::after {width: 0;}#sk-container-id-1 div.sk-dashed-wrapped {border: 1px dashed gray;margin: 0 0.4em 0.5em 0.4em;box-sizing: border-box;padding-bottom: 0.4em;background-color: white;}#sk-container-id-1 div.sk-label label {font-family: monospace;font-weight: bold;display: inline-block;line-height: 1.2em;}#sk-container-id-1 div.sk-label-container {text-align: center;}#sk-container-id-1 div.sk-container {/* jupyter's `normalize.less` sets `[hidden] { display: none; }` but bootstrap.min.css set `[hidden] { display: none !important; }` so we also need the `!important` here to be able to override the default hidden behavior on the sphinx rendered scikit-learn.org. See: https://github.com/scikit-learn/scikit-learn/issues/21755 */display: inline-block !important;position: relative;}#sk-container-id-1 div.sk-text-repr-fallback {display: none;}</style><div id=\"sk-container-id-1\" class=\"sk-top-container\"><div class=\"sk-text-repr-fallback\"><pre>RandomForestClassifier(max_depth=9, n_estimators=500)</pre><b>In a Jupyter environment, please rerun this cell to show the HTML representation or trust the notebook. <br />On GitHub, the HTML representation is unable to render, please try loading this page with nbviewer.org.</b></div><div class=\"sk-container\" hidden><div class=\"sk-item\"><div class=\"sk-estimator sk-toggleable\"><input class=\"sk-toggleable__control sk-hidden--visually\" id=\"sk-estimator-id-1\" type=\"checkbox\" checked><label for=\"sk-estimator-id-1\" class=\"sk-toggleable__label sk-toggleable__label-arrow\">RandomForestClassifier</label><div class=\"sk-toggleable__content\"><pre>RandomForestClassifier(max_depth=9, n_estimators=500)</pre></div></div></div></div></div>"
      ],
      "text/plain": [
       "RandomForestClassifier(max_depth=9, n_estimators=500)"
      ]
     },
     "execution_count": 23,
     "metadata": {},
     "output_type": "execute_result"
    }
   ],
   "source": [
    "# use the best parameters to train the model\n",
    "rand_forest_tuned = rand_forest_tuned.best_estimator_\n",
    "rand_forest_tuned.fit(X_train, y_train)"
   ]
  },
  {
   "cell_type": "code",
   "execution_count": 24,
   "metadata": {},
   "outputs": [],
   "source": [
    "# predict on test set\n",
    "y_pred = rand_forest_tuned.predict(X_test)"
   ]
  },
  {
   "cell_type": "code",
   "execution_count": 25,
   "metadata": {},
   "outputs": [
    {
     "name": "stdout",
     "output_type": "stream",
     "text": [
      "Accuracy: 0.81\n",
      "Precision: 0.81\n",
      "Recall: 0.79\n",
      "F1: 0.80\n",
      "AUC: 0.81\n",
      "Confusion Matrix:\n",
      " [[119  25]\n",
      " [ 29 107]]\n"
     ]
    }
   ],
   "source": [
    "# evaluate the model\n",
    "print('Accuracy: {:.2f}'.format(accuracy_score(y_test, y_pred)))\n",
    "print('Precision: {:.2f}'.format(precision_score(y_test, y_pred)))\n",
    "print('Recall: {:.2f}'.format(recall_score(y_test, y_pred)))\n",
    "print('F1: {:.2f}'.format(f1_score(y_test, y_pred)))\n",
    "print('AUC: {:.2f}'.format(roc_auc_score(y_test, y_pred)))\n",
    "print('Confusion Matrix:\\n', confusion_matrix(y_test, y_pred))"
   ]
  },
  {
   "cell_type": "code",
   "execution_count": 28,
   "metadata": {},
   "outputs": [],
   "source": [
    "# save the model into artifacts folder \n",
    "import pickle\n",
    "pickle.dump(rand_forest_tuned, open('/workspaces/predict-bank-credit-risk/artifacts/model.pkl', 'wb'))"
   ]
  },
  {
   "cell_type": "code",
   "execution_count": null,
   "metadata": {},
   "outputs": [],
   "source": []
  }
 ],
 "metadata": {
  "kernelspec": {
   "display_name": "Python 3",
   "language": "python",
   "name": "python3"
  },
  "language_info": {
   "codemirror_mode": {
    "name": "ipython",
    "version": 3
   },
   "file_extension": ".py",
   "mimetype": "text/x-python",
   "name": "python",
   "nbconvert_exporter": "python",
   "pygments_lexer": "ipython3",
   "version": "3.10.13"
  }
 },
 "nbformat": 4,
 "nbformat_minor": 2
}
